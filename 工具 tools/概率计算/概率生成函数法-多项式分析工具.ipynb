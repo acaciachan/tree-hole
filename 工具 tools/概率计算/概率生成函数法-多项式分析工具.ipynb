{
 "cells": [
  {
   "cell_type": "code",
   "execution_count": 1,
   "metadata": {},
   "outputs": [
    {
     "name": "stdout",
     "output_type": "stream",
     "text": [
      "期望值：21/2 ≈ 10.5\n",
      "总权重：64\n",
      "| 次数 | 权重 | 分数概率 | 百分比概率 |\n",
      "|------|------|----------|------------|\n",
      "|   15 |    1 |     1/64 |      1.56% |\n",
      "|   14 |    3 |     3/64 |      4.69% |\n",
      "|   13 |    6 |     3/32 |      9.38% |\n",
      "|   12 |   10 |     5/32 |     15.62% |\n",
      "|   11 |   12 |     3/16 |     18.75% |\n",
      "|   10 |   12 |     3/16 |     18.75% |\n",
      "|    9 |   10 |     5/32 |     15.62% |\n",
      "|    8 |    6 |     3/32 |      9.38% |\n",
      "|    7 |    3 |     3/64 |      4.69% |\n",
      "|    6 |    1 |     1/64 |      1.56% |\n"
     ]
    }
   ],
   "source": [
    "import numpy\n",
    "from fractions import Fraction\n",
    "\n",
    "def analyzePolyOrItsList(inputed):\n",
    "    if isinstance(inputed, list) or isinstance(inputed, tuple): \n",
    "        coefficients = numpy.array(inputed) # 多项式系数(list -> numpy.array)\n",
    "    elif isinstance(inputed, numpy.poly1d):\n",
    "        coefficients = inputed.coefficients # 多项式系数(numpy.poly1d -> numpy.array)\n",
    "    else: return \"请输入 numpy.poly1d 多项式或 python 的 list 或 tuple\" # 这输入的什么玩意？\n",
    "    \n",
    "    degrees = numpy.arange(len(coefficients) - 1, -1, -1) # 生成多项式次数\n",
    "    total = numpy.sum(coefficients) # 计算所有系数总和\n",
    "    expectation_fraction = Fraction(numpy.sum(degrees * coefficients), total)  # 期望值分数形式\n",
    "    expectation = float(expectation_fraction)\n",
    "    \n",
    "    print(f\"期望值：{expectation_fraction} ≈ {expectation}\")\n",
    "    print(f\"总权重：{total}\")\n",
    "    print(\"| 次数 | 权重 | 分数概率 | 百分比概率 |\") # 打印表头\n",
    "    print(\"|------|------|----------|------------|\")\n",
    "\n",
    "    for degree, coeff in zip(degrees, coefficients): # 遍历每一项，计算概率并打印\n",
    "        if coeff == 0:\n",
    "            continue  # 忽略系数为0的项\n",
    "        fraction_prob = Fraction(coeff, total)  # 分数概率\n",
    "        percent_prob = (coeff / total) * 100  # 百分比概率\n",
    "        print(f\"| {degree:4} | {coeff:4} | {fraction_prob:8} | {percent_prob:9.2f}% |\")\n",
    "\n",
    "# 示例：用多项式模拟计算三次骨粉催熟小麦，求小麦age增量的分布\n",
    "analyzePolyOrItsList(numpy.poly1d([1, 1, 1, 1, 0, 0]) ** 3)\n"
   ]
  },
  {
   "cell_type": "code",
   "execution_count": 2,
   "metadata": {},
   "outputs": [
    {
     "name": "stdout",
     "output_type": "stream",
     "text": [
      "基础掉落：-1 ~ 1，无掠夺\n",
      "期望值：1/3 ≈ 0.3333333333333333\n",
      "总权重：3\n",
      "| 次数 | 权重 | 分数概率 | 百分比概率 |\n",
      "|------|------|----------|------------|\n",
      "|    1 |    1 |      1/3 |     33.33% |\n",
      "|    0 |    2 |      2/3 |     66.67% |\n",
      "基础掉落：-1 ~ 1，掠夺3\n",
      "期望值：11/6 ≈ 1.8333333333333333\n",
      "总权重：18\n",
      "| 次数 | 权重 | 分数概率 | 百分比概率 |\n",
      "|------|------|----------|------------|\n",
      "|    4 |    1 |     1/18 |      5.56% |\n",
      "|    3 |    4 |      2/9 |     22.22% |\n",
      "|    2 |    6 |      1/3 |     33.33% |\n",
      "|    1 |    5 |     5/18 |     27.78% |\n",
      "|    0 |    2 |      1/9 |     11.11% |\n"
     ]
    }
   ],
   "source": [
    "def genBaseDropList(minVal, maxVal):\n",
    "    if minVal > maxVal: minVal, maxVal = maxVal, minVal # 保证关系为 min < max\n",
    "    count = maxVal - max(0, minVal) + 1 # 所有权重为1的项，max(min,0)用于截至到0次项\n",
    "    baseDropList = [0] * (maxVal + 1) # 新建max次多项式，全部初始化为0\n",
    "    baseDropList[:count] = [1] * count # maxVal~minVal次项系数均设置为1\n",
    "    baseDropList[-1] = -minVal + 1  if minVal < 0 else baseDropList[-1] # 把负数的权重全部加入0次项\n",
    "    return baseDropList\n",
    "\n",
    "def genCommonDropsList(minVal, maxVal, lootVal):\n",
    "    baseDropList = genBaseDropList(minVal, maxVal)\n",
    "    if lootVal <= 0 :\n",
    "        print(f\"基础掉落：{minVal} ~ {maxVal}，无掠夺\")\n",
    "        return baseDropList\n",
    "    else:\n",
    "        lootDropList = [2] * (lootVal + 1)\n",
    "        lootDropList[0] = 1\n",
    "        lootDropList[-1] = 1\n",
    "        \n",
    "        commonDropsPoly = numpy.poly1d(baseDropList) * numpy.poly1d(lootDropList)\n",
    "        commonDropsList = commonDropsPoly.coeffs.tolist()\n",
    "        print(f\"基础掉落：{minVal} ~ {maxVal}，掠夺{lootVal}\")\n",
    "        return commonDropsList\n",
    "\n",
    "# 示例：凋灵骷髅死亡煤炭基础掉落-1~1个，掠夺3下的掉落煤炭数量分布\n",
    "a = -1\n",
    "b = 1\n",
    "analyzePolyOrItsList(genCommonDropsList(a, b, 0))\n",
    "analyzePolyOrItsList(genCommonDropsList(a, b, 3))"
   ]
  }
 ],
 "metadata": {
  "kernelspec": {
   "display_name": "Python 3",
   "language": "python",
   "name": "python3"
  },
  "language_info": {
   "codemirror_mode": {
    "name": "ipython",
    "version": 3
   },
   "file_extension": ".py",
   "mimetype": "text/x-python",
   "name": "python",
   "nbconvert_exporter": "python",
   "pygments_lexer": "ipython3",
   "version": "3.13.2"
  }
 },
 "nbformat": 4,
 "nbformat_minor": 2
}
