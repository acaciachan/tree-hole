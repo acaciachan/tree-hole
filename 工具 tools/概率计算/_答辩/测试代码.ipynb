{
 "cells": [
  {
   "cell_type": "code",
   "execution_count": 4,
   "metadata": {},
   "outputs": [
    {
     "name": "stdout",
     "output_type": "stream",
     "text": [
      "[0, 1, 2, 3, 'a']\n"
     ]
    }
   ],
   "source": [
    "age_list = [0,1,2,3,-1]\n",
    "age_list = [\"a\" if age == -1 else age for age in age_list]\n",
    "print(age_list)"
   ]
  },
  {
   "cell_type": "code",
   "execution_count": null,
   "metadata": {},
   "outputs": [
    {
     "ename": "TypeError",
     "evalue": "unhashable type: 'numpy.ndarray'",
     "output_type": "error",
     "traceback": [
      "\u001b[1;31m---------------------------------------------------------------------------\u001b[0m",
      "\u001b[1;31mTypeError\u001b[0m                                 Traceback (most recent call last)",
      "Cell \u001b[1;32mIn[2], line 38\u001b[0m\n\u001b[0;32m     36\u001b[0m             A[当前限高] \u001b[38;5;241m=\u001b[39m \u001b[38;5;241m1\u001b[39m \u001b[38;5;241m-\u001b[39m \u001b[38;5;28msum\u001b[39m(A)\n\u001b[0;32m     37\u001b[0m             \u001b[38;5;28;01mbreak\u001b[39;00m\n\u001b[1;32m---> 38\u001b[0m \u001b[38;5;28mprint\u001b[39m(\u001b[38;5;124mf\u001b[39m\u001b[38;5;124m\"\u001b[39m\u001b[38;5;124m限高=\u001b[39m\u001b[38;5;132;01m{\u001b[39;00m当前限高\u001b[38;5;132;01m}\u001b[39;00m\u001b[38;5;124m\"\u001b[39m,A\u001b[38;5;241m=\u001b[39m{A})\n",
      "\u001b[1;31mTypeError\u001b[0m: unhashable type: 'numpy.ndarray'"
     ]
    }
   ],
   "source": [
    "#此部分竹子的模拟的核心代码参考自chen_yu_xuan的海带部分代码，他的原始方法请去旧算法文件夹或参考资料里查看\n",
    "#其余的画图是我和ai来回改的n手代码(n>=10)\n",
    "\n",
    "import math\n",
    "import numpy as np #基础库科学运算\n",
    "import matplotlib.pyplot as plt # 画图\n",
    "from matplotlib.ticker import MultipleLocator, MaxNLocator, AutoLocator\n",
    "import pandas as pd # 导出表格\n",
    "\n",
    "p = 1/3 # 每次随机刻选中后生长的概率，竹子为1/3\n",
    "最小高度 = 12 # 包含根部竹子，竹子最终可能达到的最小高度\n",
    "最大高度 = 16 # 包含根部竹子，竹子最终可能达到的最大高度\n",
    "终止概率 = 1/4 # 竹子生长到最小高度至最大高度会停止生长的概率，达到最大高度一定停止生长。  \n",
    "限高列表 = list(range(1, 1+最大高度, 1)) # 列出想看的限高情况，推荐只看看[1,2,3,4,5]的高度就行了，实际上最后发现还是矮的限高比较好(单位效率和单位体积效率都高)\n",
    "\n",
    "for 当前限高 in 限高列表: # 对于每一个限高\n",
    "    # 2.1 定义状态转移矩阵：\n",
    "    P = np.zeros((当前限高+2,当前限高+2))\n",
    "    P[0,0]=1 #吸收态(耗尽可生长高度)\n",
    "    for i in range(当前限高):\n",
    "        P[i+1,i+1] = 1-p/4096 # 每tick不变的概率\n",
    "        P[i+1,i] = p/4096 # 每tick变化的概率\n",
    "        P[i+1,-1] = p/4096 # 最后一列是产量，每个状态乘生长的概率(p/4096)就是当前tick这个状态的百分比对产量的贡献，由于矩阵乘法的性质会导致求和，最后就是S[-1]就会不断累计每个tick下的产量。\n",
    "    P[-1,-1] = 1 #每次状态转移保持上一次的产量不变\n",
    "    P_3t = np.linalg.matrix_power(P, 3) # 3次方矩阵，即1tick内三次随机刻的状态转移矩阵\n",
    "    \n",
    "    # 2.2 生成该限高下的初始状态概率矩阵\n",
    "    A = np.zeros(当前限高+1+1) # 在最后有额外一个表示产量的数\n",
    "    if 当前限高 < 最小高度:\n",
    "        A[当前限高] = 1\n",
    "    else:\n",
    "        for 随机可生长高度 in range(最小高度,最大高度+1):\n",
    "            if 随机可生长高度 < 当前限高:\n",
    "                A[随机可生长高度] = 终止概率*(1-终止概率)**(随机可生长高度 - 最小高度)\n",
    "            else:\n",
    "                A[当前限高] = 1 - sum(A)\n",
    "                break\n",
    "    print(f\"限高={当前限高}, A={A}\")\n"
   ]
  }
 ],
 "metadata": {
  "kernelspec": {
   "display_name": "Python 3",
   "language": "python",
   "name": "python3"
  },
  "language_info": {
   "codemirror_mode": {
    "name": "ipython",
    "version": 3
   },
   "file_extension": ".py",
   "mimetype": "text/x-python",
   "name": "python",
   "nbconvert_exporter": "python",
   "pygments_lexer": "ipython3",
   "version": "3.13.0"
  }
 },
 "nbformat": 4,
 "nbformat_minor": 2
}
