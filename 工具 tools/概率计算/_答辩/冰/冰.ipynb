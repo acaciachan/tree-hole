{
 "cells": [
  {
   "cell_type": "code",
   "execution_count": null,
   "metadata": {
    "vscode": {
     "languageId": "plaintext"
    }
   },
   "outputs": [],
   "source": [
    "from math import comb\n",
    "\n",
    "def single_round_probability(L, p, max_i=12):\n",
    "    \"\"\"\n",
    "    计算单次遍历后计数 i < 12 的概率。\n",
    "    \"\"\"\n",
    "    prob = 0\n",
    "    for k in range(max_i):  # i < 12 的部分\n",
    "        prob += comb(L, k) * (p ** k) * ((1 - p) ** (L - k))\n",
    "    return prob\n",
    "\n",
    "def multi_round_probability(L, p, max_i=12, rounds=2):\n",
    "    \"\"\"\n",
    "    递归计算多轮遍历后 i < 12 的概率。\n",
    "    \"\"\"\n",
    "    if rounds == 1:\n",
    "        return single_round_probability(L, p, max_i)\n",
    "    \n",
    "    # 计算上一轮的概率分布\n",
    "    prob_dist = [comb(L, k) * (p ** k) * ((1 - p) ** (L - k)) for k in range(L + 1)]\n",
    "    prob_less_than_12 = sum(prob_dist[:max_i])  # 上一轮 i < 12 的概率\n",
    "    prob_eq_12 = sum(prob_dist[max_i:])         # 上一轮 i = 12 的概率\n",
    "\n",
    "    # 剩余长度\n",
    "    new_L = sum(k * prob_dist[k] for k in range(max_i))  # 剩余长度期望值\n",
    "    return prob_less_than_12 + prob_eq_12 * multi_round_probability(new_L, p, max_i, rounds - 1)\n",
    "\n",
    "# 示例\n",
    "L = 20  # 初始列表长度\n",
    "p = 0.5  # 设置为1的概率\n",
    "rounds = 2  # 总轮数\n",
    "result = multi_round_probability(L, p, rounds=rounds)\n",
    "print(f\"经过 {rounds} 轮遍历后，i < 12 的概率为: {result:.4f}\")\n"
   ]
  }
 ],
 "metadata": {
  "language_info": {
   "name": "python"
  }
 },
 "nbformat": 4,
 "nbformat_minor": 2
}
