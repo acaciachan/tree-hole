{
 "cells": [
  {
   "cell_type": "code",
   "execution_count": 6,
   "metadata": {},
   "outputs": [
    {
     "name": "stdout",
     "output_type": "stream",
     "text": [
      "半径: 130，圆上点1: -674 61 -1538, 圆上点2: -495 62 -1533\n",
      "    圆心1: (-587.13, -1441.28)\n",
      "        /tp @p -587.13 ~ -1441.28\n",
      "    圆心2: (-581.87, -1629.72)\n",
      "        /tp @p -581.87 ~ -1629.72\n",
      "半径: 130，圆上点1: -479 61 -1615, 圆上点2: -642 61 -1615\n",
      "    圆心1: (-560.50, -1716.28)\n",
      "        /tp @p -560.50 ~ -1716.28\n",
      "    圆心2: (-560.50, -1513.72)\n",
      "        /tp @p -560.50 ~ -1513.72\n"
     ]
    }
   ],
   "source": [
    "import math\n",
    "\"\"\"\n",
    "计算过两个点、半径为r的圆的圆心位置（xz平面）\n",
    "输入：两个点坐标字符串(\"x y z\"格式)，半径(浮点数)\n",
    "输出：两个可能的圆心坐标(x, z)的元组列表\n",
    "\"\"\"\n",
    "def find_circle_centers(radius, point1, point2):\n",
    "    x1, _, z1 = map(float, point1.split())  # 解析坐标字符串\n",
    "    x2, _, z2 = map(float, point2.split())\n",
    "    d = math.sqrt((x2 - x1)**2 + (z2 - z1)**2) # 计算两点间距离\n",
    "    print(f\"半径: {radius}，圆上点1: {point1}, 圆上点2: {point2}\")\n",
    "    if d > 2 * radius:  # 检查合法性\n",
    "        print(\"    两点距离大于直径，无法构成半径为{}的圆\".format(radius))\n",
    "        return\n",
    "    if d == 0:\n",
    "        print(\"    两点重合，无法确定圆心\")\n",
    "        return\n",
    "    \n",
    "    mx = (x1 + x2) / 2  # 计算中点坐标\n",
    "    mz = (z1 + z2) / 2\n",
    "    h = math.sqrt(radius**2 - (d/2)**2) # 计算中点到圆心的距离\n",
    "    \n",
    "    dx = x2 - x1\n",
    "    dz = z2 - z1\n",
    "    length = math.sqrt(dx**2 + dz**2)\n",
    "    dx, dz = dx/length, dz/length   # 计算方向向量并归一化\n",
    "    \n",
    "    center1_x = mx + h * (-dz) # 计算两个可能的圆心\n",
    "    center1_z = mz + h * dx\n",
    "    center2_x = mx - h * (-dz)\n",
    "    center2_z = mz - h * dx\n",
    "    \n",
    "    result = [(center1_x, center1_z), (center2_x, center2_z)]\n",
    "\n",
    "    if isinstance(result, str):\n",
    "        print(result)\n",
    "    else:\n",
    "        for i, (x, z) in enumerate(result, 1):\n",
    "            print(f\"    圆心{i}: ({x:.2f}, {z:.2f})\")\n",
    "            print(f\"        /tp @p {x:.2f} ~ {z:.2f}\")\n",
    "\n",
    "\n",
    "\n",
    "find_circle_centers(130, \"-674 61 -1538\", \"-495 62 -1533\")\n",
    "find_circle_centers(130, \"-479 61 -1615\", \"-642 61 -1615\")"
   ]
  }
 ],
 "metadata": {
  "kernelspec": {
   "display_name": "Python 3",
   "language": "python",
   "name": "python3"
  },
  "language_info": {
   "codemirror_mode": {
    "name": "ipython",
    "version": 3
   },
   "file_extension": ".py",
   "mimetype": "text/x-python",
   "name": "python",
   "nbconvert_exporter": "python",
   "pygments_lexer": "ipython3",
   "version": "3.13.2"
  }
 },
 "nbformat": 4,
 "nbformat_minor": 2
}
